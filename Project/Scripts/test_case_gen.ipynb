{
 "cells": [
  {
   "cell_type": "code",
   "execution_count": 16,
   "id": "b049c099",
   "metadata": {},
   "outputs": [],
   "source": [
    "import numpy as np\n",
    "import cv2"
   ]
  },
  {
   "cell_type": "code",
   "execution_count": 17,
   "id": "8433d518",
   "metadata": {},
   "outputs": [
    {
     "name": "stdout",
     "output_type": "stream",
     "text": [
      "[[168 168 167 ... 171 177 154]\n",
      " [168 167 167 ... 174 182 158]\n",
      " [169 166 167 ... 150 132  99]\n",
      " ...\n",
      " [ 59  61  64 ...  82  98 102]\n",
      " [ 56  61  61 ...  95 110 111]\n",
      " [ 53  61  59 ... 106 116 118]]\n"
     ]
    }
   ],
   "source": [
    "# Load an color image in grayscale\n",
    "img = cv2.imread('test.png',0) \n",
    "print(img)"
   ]
  },
  {
   "cell_type": "code",
   "execution_count": 18,
   "id": "2396b735",
   "metadata": {},
   "outputs": [],
   "source": [
    "f = open(\"test_case.txt\", \"a\")\n",
    "f_1 = open(\"result_python.txt\", \"a\")\n",
    "def convolve2D(image, kernel, padding=0, strides=2):\n",
    "    # Cross Correlation\n",
    "    kernel = np.flipud(np.fliplr(kernel))\n",
    "\n",
    "    # Gather Shapes of Kernel + Image + Padding\n",
    "    xKernShape = kernel.shape[0]\n",
    "    yKernShape = kernel.shape[1]\n",
    "    xImgShape = image.shape[0]\n",
    "    yImgShape = image.shape[1]\n",
    "\n",
    "    # Shape of Output Convolution\n",
    "    xOutput = int(((xImgShape - xKernShape + 2 * padding) / strides) + 1)\n",
    "    yOutput = int(((yImgShape - yKernShape + 2 * padding) / strides) + 1)\n",
    "    output = np.zeros((xOutput, yOutput))\n",
    "\n",
    "    # Apply Equal Padding to All Sides\n",
    "    if padding != 0:\n",
    "        imagePadded = np.zeros((image.shape[0] + padding*2, image.shape[1] + padding*2))\n",
    "        imagePadded[int(padding):int(-1 * padding), int(padding):int(-1 * padding)] = image\n",
    "        print(imagePadded)\n",
    "    else:\n",
    "        imagePadded = image\n",
    "\n",
    "    # Iterate through image\n",
    "    for y in range(image.shape[1]):\n",
    "        # Exit Convolution\n",
    "        if y > image.shape[1] - yKernShape:\n",
    "            break\n",
    "        # Only Convolve if y has gone down by the specified Strides\n",
    "        if y % strides == 0:\n",
    "            for x in range(image.shape[0]):\n",
    "                # Go to next row once kernel is out of bounds\n",
    "                if x > image.shape[0] - xKernShape:\n",
    "                    break\n",
    "                try:\n",
    "                    # Only Convolve if x has moved by the specified Strides\n",
    "                    if x % strides == 0:\n",
    "                        output[x, y] = (kernel * imagePadded[x: x + xKernShape, y: y + yKernShape]).sum()\n",
    "                except:\n",
    "                    break\n",
    "\n",
    "    return output"
   ]
  },
  {
   "cell_type": "code",
   "execution_count": 19,
   "id": "8f2f2cbe",
   "metadata": {},
   "outputs": [
    {
     "name": "stdout",
     "output_type": "stream",
     "text": [
      "168 168 167\n",
      "168 167 167\n",
      "169 166 167\n",
      "5.0\n"
     ]
    }
   ],
   "source": [
    "x, y = img.shape\n",
    "for _x in range(x):\n",
    "    for _y in range(y):\n",
    "        f.write(np.binary_repr(img[_x, _y], width=16) + '\\n')\n",
    "f.close()\n",
    "kernel = np.array([[-1, 0, 1],\n",
    "                   [-2, 0, 2],\n",
    "                   [-1, 0, 1]])\n",
    "result = convolve2D(img, kernel)\n",
    "x, y = result.shape\n",
    "for _x_1 in range(x):\n",
    "    for _y_1 in range(y):\n",
    "        f_1.write(np.binary_repr(int(result[_x_1, _y_1]), width=16) + '\\n')\n",
    "f_1.close()\n",
    "print(img[0][0], img[0][1], img[0][2])\n",
    "print(img[1][0], img[1][1], img[1][2])\n",
    "print(img[2][0], img[2][1], img[2][2])\n",
    "print(result[0][0])"
   ]
  },
  {
   "cell_type": "code",
   "execution_count": 20,
   "id": "87469c84",
   "metadata": {},
   "outputs": [],
   "source": [
    "cv2.imshow('image',img)\n",
    "cv2.imshow('result',result)\n",
    "cv2.waitKey(0)\n",
    "cv2.destroyAllWindows()"
   ]
  },
  {
   "cell_type": "code",
   "execution_count": null,
   "id": "17737fa8",
   "metadata": {},
   "outputs": [],
   "source": []
  },
  {
   "cell_type": "code",
   "execution_count": null,
   "id": "1edfebc3",
   "metadata": {},
   "outputs": [],
   "source": []
  }
 ],
 "metadata": {
  "kernelspec": {
   "display_name": "Python 3",
   "language": "python",
   "name": "python3"
  },
  "language_info": {
   "codemirror_mode": {
    "name": "ipython",
    "version": 3
   },
   "file_extension": ".py",
   "mimetype": "text/x-python",
   "name": "python",
   "nbconvert_exporter": "python",
   "pygments_lexer": "ipython3",
   "version": "3.9.0"
  }
 },
 "nbformat": 4,
 "nbformat_minor": 5
}
